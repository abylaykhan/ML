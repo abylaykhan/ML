{
 "cells": [
  {
   "cell_type": "code",
   "execution_count": 1,
   "metadata": {},
   "outputs": [],
   "source": [
    "from sklearn.svm import SVC\n",
    "import numpy as np\n",
    "import pandas as pd\n",
    "import math as mt\n",
    "from sklearn.decomposition import PCA\n",
    "import sklearn\n",
    "from sklearn.linear_model import LinearRegression\n",
    "import matplotlib.pyplot as plt\n",
    "import seaborn as sns\n",
    "from sklearn.model_selection import train_test_split\n",
    "import warnings\n",
    "warnings.filterwarnings(\"ignore\")"
   ]
  },
  {
   "cell_type": "markdown",
   "metadata": {},
   "source": [
    "### Cоздание Dataframe"
   ]
  },
  {
   "cell_type": "code",
   "execution_count": 2,
   "metadata": {},
   "outputs": [
    {
     "data": {
      "text/html": [
       "<div>\n",
       "<style scoped>\n",
       "    .dataframe tbody tr th:only-of-type {\n",
       "        vertical-align: middle;\n",
       "    }\n",
       "\n",
       "    .dataframe tbody tr th {\n",
       "        vertical-align: top;\n",
       "    }\n",
       "\n",
       "    .dataframe thead th {\n",
       "        text-align: right;\n",
       "    }\n",
       "</style>\n",
       "<table border=\"1\" class=\"dataframe\">\n",
       "  <thead>\n",
       "    <tr style=\"text-align: right;\">\n",
       "      <th></th>\n",
       "      <th>Rooms</th>\n",
       "      <th>Price</th>\n",
       "      <th>Floor</th>\n",
       "      <th>Square</th>\n",
       "      <th>District</th>\n",
       "      <th>Year_of_con</th>\n",
       "      <th>floors_in_building</th>\n",
       "    </tr>\n",
       "  </thead>\n",
       "  <tbody>\n",
       "    <tr>\n",
       "      <th>count</th>\n",
       "      <td>12957.000000</td>\n",
       "      <td>12957.000000</td>\n",
       "      <td>12957.000000</td>\n",
       "      <td>12957.000000</td>\n",
       "      <td>12957.000000</td>\n",
       "      <td>12957.000000</td>\n",
       "      <td>12957.000000</td>\n",
       "    </tr>\n",
       "    <tr>\n",
       "      <th>mean</th>\n",
       "      <td>2.158602</td>\n",
       "      <td>26802.006864</td>\n",
       "      <td>6.492629</td>\n",
       "      <td>68.350472</td>\n",
       "      <td>1.479895</td>\n",
       "      <td>2009.342749</td>\n",
       "      <td>11.060122</td>\n",
       "    </tr>\n",
       "    <tr>\n",
       "      <th>std</th>\n",
       "      <td>0.954874</td>\n",
       "      <td>17159.956414</td>\n",
       "      <td>4.427703</td>\n",
       "      <td>32.389560</td>\n",
       "      <td>0.943282</td>\n",
       "      <td>12.592243</td>\n",
       "      <td>5.613711</td>\n",
       "    </tr>\n",
       "    <tr>\n",
       "      <th>min</th>\n",
       "      <td>1.000000</td>\n",
       "      <td>2000.000000</td>\n",
       "      <td>1.000000</td>\n",
       "      <td>10.800000</td>\n",
       "      <td>0.000000</td>\n",
       "      <td>1942.000000</td>\n",
       "      <td>1.000000</td>\n",
       "    </tr>\n",
       "    <tr>\n",
       "      <th>25%</th>\n",
       "      <td>1.000000</td>\n",
       "      <td>15999.999000</td>\n",
       "      <td>3.000000</td>\n",
       "      <td>44.000000</td>\n",
       "      <td>1.000000</td>\n",
       "      <td>2008.000000</td>\n",
       "      <td>7.000000</td>\n",
       "    </tr>\n",
       "    <tr>\n",
       "      <th>50%</th>\n",
       "      <td>2.000000</td>\n",
       "      <td>22300.000000</td>\n",
       "      <td>5.000000</td>\n",
       "      <td>61.000000</td>\n",
       "      <td>1.000000</td>\n",
       "      <td>2013.000000</td>\n",
       "      <td>10.000000</td>\n",
       "    </tr>\n",
       "    <tr>\n",
       "      <th>75%</th>\n",
       "      <td>3.000000</td>\n",
       "      <td>32200.000000</td>\n",
       "      <td>9.000000</td>\n",
       "      <td>85.000000</td>\n",
       "      <td>2.000000</td>\n",
       "      <td>2017.000000</td>\n",
       "      <td>14.000000</td>\n",
       "    </tr>\n",
       "    <tr>\n",
       "      <th>max</th>\n",
       "      <td>6.000000</td>\n",
       "      <td>165000.000000</td>\n",
       "      <td>40.000000</td>\n",
       "      <td>196.000000</td>\n",
       "      <td>3.000000</td>\n",
       "      <td>2022.000000</td>\n",
       "      <td>43.000000</td>\n",
       "    </tr>\n",
       "  </tbody>\n",
       "</table>\n",
       "</div>"
      ],
      "text/plain": [
       "              Rooms          Price         Floor        Square      District  \\\n",
       "count  12957.000000   12957.000000  12957.000000  12957.000000  12957.000000   \n",
       "mean       2.158602   26802.006864      6.492629     68.350472      1.479895   \n",
       "std        0.954874   17159.956414      4.427703     32.389560      0.943282   \n",
       "min        1.000000    2000.000000      1.000000     10.800000      0.000000   \n",
       "25%        1.000000   15999.999000      3.000000     44.000000      1.000000   \n",
       "50%        2.000000   22300.000000      5.000000     61.000000      1.000000   \n",
       "75%        3.000000   32200.000000      9.000000     85.000000      2.000000   \n",
       "max        6.000000  165000.000000     40.000000    196.000000      3.000000   \n",
       "\n",
       "        Year_of_con  floors_in_building  \n",
       "count  12957.000000        12957.000000  \n",
       "mean    2009.342749           11.060122  \n",
       "std       12.592243            5.613711  \n",
       "min     1942.000000            1.000000  \n",
       "25%     2008.000000            7.000000  \n",
       "50%     2013.000000           10.000000  \n",
       "75%     2017.000000           14.000000  \n",
       "max     2022.000000           43.000000  "
      ]
     },
     "execution_count": 2,
     "metadata": {},
     "output_type": "execute_result"
    }
   ],
   "source": [
    "column_names=['Rooms','Price', 'Floor', 'Square', 'District', 'Year_of_con', 'floors_in_building']\n",
    "data=pd.read_csv('/home/abylaihan/Рабочий стол/диплом/krisha.csv', names=column_names, header=None)\n",
    "data = data.drop(data[data.Square > 196].index)\n",
    "data.astype('float64').dtypes\n",
    "data=data.dropna()\n",
    "X=data.drop(['Price'],axis=1)\n",
    "data[['Price']]=data[['Price']]/1000\n",
    "y=data[['Price']]\n",
    "data.describe()"
   ]
  },
  {
   "cell_type": "markdown",
   "metadata": {},
   "source": [
    "### Разделение выборки"
   ]
  },
  {
   "cell_type": "code",
   "execution_count": 3,
   "metadata": {},
   "outputs": [],
   "source": [
    "x_train, x_test, y_train, y_test = train_test_split(X, y,train_size=0.8,random_state=42)"
   ]
  },
  {
   "cell_type": "markdown",
   "metadata": {},
   "source": [
    "### Линейная регрессия"
   ]
  },
  {
   "cell_type": "code",
   "execution_count": 4,
   "metadata": {},
   "outputs": [
    {
     "name": "stdout",
     "output_type": "stream",
     "text": [
      "Line reg:  0.7643448495290468\n"
     ]
    }
   ],
   "source": [
    "Line_reg = LinearRegression()\n",
    "Line_reg.fit(x_train,y_train)\n",
    "print(\"Line reg: \",Line_reg.score(x_test,y_test))"
   ]
  },
  {
   "cell_type": "markdown",
   "metadata": {},
   "source": [
    "### Градиентный бустинг"
   ]
  },
  {
   "cell_type": "code",
   "execution_count": 5,
   "metadata": {},
   "outputs": [
    {
     "name": "stdout",
     "output_type": "stream",
     "text": [
      "      Iter       Train Loss   Remaining Time \n",
      "         1   217812997.6820            1.22s\n",
      "         2   163596674.2777            0.92s\n",
      "         3   128166516.9923            0.80s\n",
      "         4   104137077.3362            0.73s\n",
      "         5    87441816.7431            0.70s\n",
      "         6    75857256.2336            0.68s\n",
      "         7    68133267.5388            0.67s\n",
      "         8    62317333.7411            0.65s\n",
      "         9    58410429.8191            0.63s\n",
      "        10    55729575.1468            0.62s\n",
      "        20    45326091.1837            0.50s\n",
      "        30    42337696.3146            0.45s\n",
      "        40    40638588.3825            0.38s\n",
      "        50    39067365.7360            0.31s\n",
      "        60    37719149.8927            0.25s\n",
      "        70    36675398.1686            0.18s\n",
      "        80    35977372.8503            0.12s\n",
      "        90    34749557.5815            0.06s\n",
      "       100    34095825.3963            0.00s\n",
      "GB:  0.8184450977385266\n"
     ]
    }
   ],
   "source": [
    "from sklearn.ensemble import GradientBoostingRegressor\n",
    "gb = GradientBoostingRegressor(\n",
    "                                learning_rate=0.2,\n",
    "                                verbose=True,\n",
    "                                random_state=241)\n",
    "gb.fit(x_train, y_train)\n",
    "print(\"GB: \",gb.score(x_test,y_test))"
   ]
  },
  {
   "cell_type": "markdown",
   "metadata": {},
   "source": [
    "### Рандомный лес\n"
   ]
  },
  {
   "cell_type": "code",
   "execution_count": 6,
   "metadata": {},
   "outputs": [
    {
     "name": "stdout",
     "output_type": "stream",
     "text": [
      "0.868602700370442\n"
     ]
    }
   ],
   "source": [
    "from sklearn.ensemble import RandomForestRegressor\n",
    "Forest=RandomForestRegressor()\n",
    "Forest.fit(x_train,y_train)\n",
    "print(Forest.score(x_test,y_test))"
   ]
  },
  {
   "cell_type": "markdown",
   "metadata": {},
   "source": [
    "### Voting"
   ]
  },
  {
   "cell_type": "code",
   "execution_count": 7,
   "metadata": {},
   "outputs": [
    {
     "name": "stdout",
     "output_type": "stream",
     "text": [
      "0.8518370666572602\n",
      "       Rooms  Floor  Square  District  Year_of_con  floors_in_building\n",
      "3457       4    3.0   106.0         1         2017                12.0\n",
      "11565      2    9.0    71.0         0         2013                18.0\n",
      "472        3    6.0    82.5         0         2014                24.0\n",
      "5187       1    7.0    43.7         2         2021                 9.0\n",
      "10680      1    9.0    36.0         2         2013                14.0\n",
      "...      ...    ...     ...       ...          ...                 ...\n",
      "12505      1    3.0    37.0         1         2018                 9.0\n",
      "11253      2    2.0    36.3         3         1988                 5.0\n",
      "6938       1    2.0    37.7         1         2020                 9.0\n",
      "11504      2    4.0    68.7         2         2018                12.0\n",
      "9528       1   14.0    41.0         1         2018                16.0\n",
      "\n",
      "[2592 rows x 6 columns]          Price\n",
      "3457   39000.0\n",
      "11565  23500.0\n",
      "472    33000.0\n",
      "5187   10500.0\n",
      "10680  14500.0\n",
      "...        ...\n",
      "12505  20500.0\n",
      "11253  13800.0\n",
      "6938   19800.0\n",
      "11504  27500.0\n",
      "9528   16750.0\n",
      "\n",
      "[2592 rows x 1 columns]\n"
     ]
    }
   ],
   "source": [
    "from sklearn.ensemble import VotingRegressor\n",
    "r1=LinearRegression()\n",
    "r2=RandomForestRegressor()\n",
    "r3=GradientBoostingRegressor()\n",
    "er = VotingRegressor([('lr', r1), ('rf', r2), ('gb',r3)])\n",
    "er.fit(x_train,y_train)\n",
    "print(er.score(x_test,y_test))\n",
    "print(x_test,y_test)"
   ]
  },
  {
   "cell_type": "code",
   "execution_count": 8,
   "metadata": {},
   "outputs": [
    {
     "data": {
      "text/html": [
       "<div>\n",
       "<style scoped>\n",
       "    .dataframe tbody tr th:only-of-type {\n",
       "        vertical-align: middle;\n",
       "    }\n",
       "\n",
       "    .dataframe tbody tr th {\n",
       "        vertical-align: top;\n",
       "    }\n",
       "\n",
       "    .dataframe thead th {\n",
       "        text-align: right;\n",
       "    }\n",
       "</style>\n",
       "<table border=\"1\" class=\"dataframe\">\n",
       "  <thead>\n",
       "    <tr style=\"text-align: right;\">\n",
       "      <th></th>\n",
       "      <th>Rooms</th>\n",
       "      <th>Price</th>\n",
       "      <th>Floor</th>\n",
       "      <th>Square</th>\n",
       "      <th>District</th>\n",
       "      <th>Year_of_con</th>\n",
       "      <th>floors_in_building</th>\n",
       "    </tr>\n",
       "  </thead>\n",
       "  <tbody>\n",
       "    <tr>\n",
       "      <th>count</th>\n",
       "      <td>12957.000000</td>\n",
       "      <td>12957.000000</td>\n",
       "      <td>12957.000000</td>\n",
       "      <td>12957.000000</td>\n",
       "      <td>12957.000000</td>\n",
       "      <td>12957.000000</td>\n",
       "      <td>12957.000000</td>\n",
       "    </tr>\n",
       "    <tr>\n",
       "      <th>mean</th>\n",
       "      <td>2.158602</td>\n",
       "      <td>26802.006864</td>\n",
       "      <td>6.492629</td>\n",
       "      <td>68.350472</td>\n",
       "      <td>1.479895</td>\n",
       "      <td>2009.342749</td>\n",
       "      <td>11.060122</td>\n",
       "    </tr>\n",
       "    <tr>\n",
       "      <th>std</th>\n",
       "      <td>0.954874</td>\n",
       "      <td>17159.956414</td>\n",
       "      <td>4.427703</td>\n",
       "      <td>32.389560</td>\n",
       "      <td>0.943282</td>\n",
       "      <td>12.592243</td>\n",
       "      <td>5.613711</td>\n",
       "    </tr>\n",
       "    <tr>\n",
       "      <th>min</th>\n",
       "      <td>1.000000</td>\n",
       "      <td>2000.000000</td>\n",
       "      <td>1.000000</td>\n",
       "      <td>10.800000</td>\n",
       "      <td>0.000000</td>\n",
       "      <td>1942.000000</td>\n",
       "      <td>1.000000</td>\n",
       "    </tr>\n",
       "    <tr>\n",
       "      <th>25%</th>\n",
       "      <td>1.000000</td>\n",
       "      <td>15999.999000</td>\n",
       "      <td>3.000000</td>\n",
       "      <td>44.000000</td>\n",
       "      <td>1.000000</td>\n",
       "      <td>2008.000000</td>\n",
       "      <td>7.000000</td>\n",
       "    </tr>\n",
       "    <tr>\n",
       "      <th>50%</th>\n",
       "      <td>2.000000</td>\n",
       "      <td>22300.000000</td>\n",
       "      <td>5.000000</td>\n",
       "      <td>61.000000</td>\n",
       "      <td>1.000000</td>\n",
       "      <td>2013.000000</td>\n",
       "      <td>10.000000</td>\n",
       "    </tr>\n",
       "    <tr>\n",
       "      <th>75%</th>\n",
       "      <td>3.000000</td>\n",
       "      <td>32200.000000</td>\n",
       "      <td>9.000000</td>\n",
       "      <td>85.000000</td>\n",
       "      <td>2.000000</td>\n",
       "      <td>2017.000000</td>\n",
       "      <td>14.000000</td>\n",
       "    </tr>\n",
       "    <tr>\n",
       "      <th>max</th>\n",
       "      <td>6.000000</td>\n",
       "      <td>165000.000000</td>\n",
       "      <td>40.000000</td>\n",
       "      <td>196.000000</td>\n",
       "      <td>3.000000</td>\n",
       "      <td>2022.000000</td>\n",
       "      <td>43.000000</td>\n",
       "    </tr>\n",
       "  </tbody>\n",
       "</table>\n",
       "</div>"
      ],
      "text/plain": [
       "              Rooms          Price         Floor        Square      District  \\\n",
       "count  12957.000000   12957.000000  12957.000000  12957.000000  12957.000000   \n",
       "mean       2.158602   26802.006864      6.492629     68.350472      1.479895   \n",
       "std        0.954874   17159.956414      4.427703     32.389560      0.943282   \n",
       "min        1.000000    2000.000000      1.000000     10.800000      0.000000   \n",
       "25%        1.000000   15999.999000      3.000000     44.000000      1.000000   \n",
       "50%        2.000000   22300.000000      5.000000     61.000000      1.000000   \n",
       "75%        3.000000   32200.000000      9.000000     85.000000      2.000000   \n",
       "max        6.000000  165000.000000     40.000000    196.000000      3.000000   \n",
       "\n",
       "        Year_of_con  floors_in_building  \n",
       "count  12957.000000        12957.000000  \n",
       "mean    2009.342749           11.060122  \n",
       "std       12.592243            5.613711  \n",
       "min     1942.000000            1.000000  \n",
       "25%     2008.000000            7.000000  \n",
       "50%     2013.000000           10.000000  \n",
       "75%     2017.000000           14.000000  \n",
       "max     2022.000000           43.000000  "
      ]
     },
     "execution_count": 8,
     "metadata": {},
     "output_type": "execute_result"
    }
   ],
   "source": [
    "import seaborn as sns\n",
    "import matplotlib.pyplot as plt\n",
    "\n",
    "data.describe()\n"
   ]
  },
  {
   "cell_type": "code",
   "execution_count": 9,
   "metadata": {},
   "outputs": [
    {
     "data": {
      "text/plain": [
       "<matplotlib.collections.PathCollection at 0x7f1a91f93be0>"
      ]
     },
     "execution_count": 9,
     "metadata": {},
     "output_type": "execute_result"
    },
    {
     "data": {
      "image/png": "[encoded data removed]",
      "text/plain": [
       "<Figure size 720x720 with 1 Axes>"
      ]
     },
     "metadata": {
      "needs_background": "light"
     },
     "output_type": "display_data"
    }
   ],
   "source": [
    "f, ax1 = plt.subplots(1, 1, figsize=(10, 10))\n",
    "\n",
    "\n",
    "ax1.set_title('Результат прогнозирования (тестовая выборка)')\n",
    "\n",
    "ax1.scatter(data['Rooms'], data['Price'])"
   ]
  },
  {
   "cell_type": "code",
   "execution_count": 12,
   "metadata": {},
   "outputs": [
    {
     "data": {
      "text/plain": [
       "<matplotlib.axes._subplots.AxesSubplot at 0x7f1a91373e80>"
      ]
     },
     "execution_count": 12,
     "metadata": {},
     "output_type": "execute_result"
    },
    {
     "data": {
      "image/png": "[encoded data removed]",
      "text/plain": [
       "<Figure size 432x288 with 1 Axes>"
      ]
     },
     "metadata": {
      "needs_background": "light"
     },
     "output_type": "display_data"
    }
   ],
   "source": [
    "data.groupby([data.Price]).count().plot(label='')"
   ]
  },
  {
   "cell_type": "code",
   "execution_count": null,
   "metadata": {},
   "outputs": [],
   "source": []
  }
 ],
 "metadata": {
  "kernelspec": {
   "display_name": "Python 3",
   "language": "python",
   "name": "python3"
  },
  "language_info": {
   "codemirror_mode": {
    "name": "ipython",
    "version": 3
   },
   "file_extension": ".py",
   "mimetype": "text/x-python",
   "name": "python",
   "nbconvert_exporter": "python",
   "pygments_lexer": "ipython3",
   "version": "3.6.9"
  }
 },
 "nbformat": 4,
 "nbformat_minor": 2
}
